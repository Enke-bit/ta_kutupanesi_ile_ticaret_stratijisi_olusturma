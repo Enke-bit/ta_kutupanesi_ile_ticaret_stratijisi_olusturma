{
 "cells": [
  {
   "cell_type": "markdown",
   "id": "b36696f3",
   "metadata": {},
   "source": [
    "# Ta kütüpanesini kullanıp netfilix hissesi üzerinden ticaret stratiji oluşturma."
   ]
  },
  {
   "cell_type": "markdown",
   "id": "23f62232",
   "metadata": {},
   "source": [
    "# Ticaret Stratejisi Analizi ve Backtesting Sonuçları\n",
    "\n",
    "Bu çalışma, bir ticaret stratejisinin etkinliğini değerlendirmek amacıyla yapılmıştır. Strateji, belirli hareketli ortalama (SMA) ve üssel hareketli ortalama (EMA) pencereleri kullanılarak oluşturulmuş ve geçmiş piyasa verileri üzerinde test edilmiştir. Aşağıda, bu stratejinin performansını özetleyen ana sonuçlar bulunmaktadır:\n",
    "\n",
    "## Strateji Detayları\n",
    "\n",
    "- **En İyi SMA Penceresi:** 5\n",
    "- **En İyi EMA Penceresi:** 5\n",
    "\n",
    "Bu parametreler, SMA ve EMA pencerelerinin en iyi performansı sağladığı değerlerdir. Strateji, bu pencereleri kullanarak alım ve satım sinyalleri üretmiştir. SMA ve EMA'nın birbirine göre pozisyonu alım (SMA < EMA) veya satım (SMA > EMA) sinyalleri sağlamaktadır.\n",
    "\n",
    "## Performans Sonuçları\n",
    "\n",
    "- **Başlangıç Sermayesi:** $1000.00\n",
    "- **Son Portföy Değeri:** $1345.79\n",
    "- **Kar/Zarar:** $345.79\n",
    "\n",
    "Bu sonuç, stratejinin geçmiş veriler üzerinde başarılı bir performans gösterdiğini ve yatırımcının başlangıç sermayesini %34.58 oranında artırdığını göstermektedir.\n",
    "\n",
    "## Görselleştirme ve Sonuçların Analizi\n",
    "\n",
    "Stratejinin performansı zaman içinde görselleştirilmiştir. Aşağıdaki grafik, portföy değerinin ve strateji getirilerinin zamanla nasıl değiştiğini göstermektedir. Görselleştirme, stratejinin ne kadar etkili olduğunu anlamak için önemli bir araçtır ve bu tür analizler, ticaret stratejilerinin geliştirilmesi ve iyileştirilmesi sürecinde önemli bir rol oynar.\n",
    "\n",
    "## Sonuçlar ve Gelecek Çalışmalar\n",
    "\n",
    "Bu çalışma, kullanılan SMA ve EMA pencerelerinin strateji performansını optimize etme açısından etkili olduğunu ortaya koymaktadır. Gelecek çalışmalar, farklı pencereler ve ek göstergeler kullanarak stratejinin daha da iyileştirilmesini ve genişletilmesini hedefleyebilir. Ayrıca, stratejinin diğer piyasa koşullarında ve varlık sınıflarında nasıl performans gösterdiğini değerlendirmek için ek backtesting çalışmaları yapılabilir."
   ]
  },
  {
   "cell_type": "code",
   "execution_count": 39,
   "id": "571b0314",
   "metadata": {},
   "outputs": [
    {
     "name": "stdout",
     "output_type": "stream",
     "text": [
      "Requirement already satisfied: ta in c:\\users\\realb\\anaconda3\\lib\\site-packages (0.11.0)\n",
      "Requirement already satisfied: numpy in c:\\users\\realb\\anaconda3\\lib\\site-packages (from ta) (1.24.3)\n",
      "Requirement already satisfied: pandas in c:\\users\\realb\\anaconda3\\lib\\site-packages (from ta) (2.0.3)\n",
      "Requirement already satisfied: python-dateutil>=2.8.2 in c:\\users\\realb\\anaconda3\\lib\\site-packages (from pandas->ta) (2.8.2)\n",
      "Requirement already satisfied: pytz>=2020.1 in c:\\users\\realb\\anaconda3\\lib\\site-packages (from pandas->ta) (2023.3.post1)\n",
      "Requirement already satisfied: tzdata>=2022.1 in c:\\users\\realb\\anaconda3\\lib\\site-packages (from pandas->ta) (2023.3)\n",
      "Requirement already satisfied: six>=1.5 in c:\\users\\realb\\anaconda3\\lib\\site-packages (from python-dateutil>=2.8.2->pandas->ta) (1.16.0)\n"
     ]
    }
   ],
   "source": [
    "!pip install ta"
   ]
  },
  {
   "cell_type": "code",
   "execution_count": 41,
   "id": "9777b4c8",
   "metadata": {},
   "outputs": [
    {
     "name": "stdout",
     "output_type": "stream",
     "text": [
      "           Date        Open        High         Low       Close   Adj Close  \\\n",
      "4869 2021-09-24  592.500000  592.979980  583.640015  592.390015  592.390015   \n",
      "4870 2021-09-27  587.950012  593.580017  576.929993  592.640015  592.640015   \n",
      "4871 2021-09-28  589.000000  599.539978  580.159973  583.849976  583.849976   \n",
      "4872 2021-09-29  589.010010  609.880005  588.010010  599.059998  599.059998   \n",
      "4873 2021-09-30  608.049988  619.000000  608.049988  610.340027  610.340027   \n",
      "\n",
      "       Volume         SMA         EMA        RSI       MACD   Bollinger  \n",
      "4869  2124800  589.975712  584.330714  61.570135  10.924091  610.526504  \n",
      "4870  2504700  588.970712  585.438621  61.689783  10.676479  609.067701  \n",
      "4871  4431100  587.384997  585.226801  55.184204   9.659612  607.734932  \n",
      "4872  6221000  587.493570  587.071228  62.544737   9.966176  607.641217  \n",
      "4873  6612600  588.323574  590.173734  66.888110  10.992618  610.773752  \n"
     ]
    }
   ],
   "source": [
    "import pandas as pd\n",
    "import ta\n",
    "\n",
    "# Örnek veri yükleme\n",
    "df = pd.read_csv(r'C:\\Users\\realb\\Desktop\\yapay zeka çalışmaları ve ilgili dökümasyonlar\\Netflix Hisse Senedi fiyat tahmini\\NFLX.csv', parse_dates=['Date'])\n",
    "\n",
    "# Teknik göstergeleri hesaplayın\n",
    "df['SMA'] = ta.trend.sma_indicator(df['Close'], window=14)\n",
    "df['EMA'] = ta.trend.ema_indicator(df['Close'], window=14)\n",
    "df['RSI'] = ta.momentum.RSIIndicator(df['Close'], window=14).rsi()\n",
    "df['MACD'] = ta.trend.MACD(df['Close']).macd()\n",
    "df['Bollinger'] = ta.volatility.BollingerBands(df['Close']).bollinger_hband()\n",
    "\n",
    "# Göstergeleri görüntüleyin\n",
    "print(df.tail())"
   ]
  },
  {
   "cell_type": "code",
   "execution_count": 53,
   "id": "d8d862dd",
   "metadata": {},
   "outputs": [],
   "source": [
    "# Örnek veri yükleme\n",
    "df = pd.read_csv(r'C:\\Users\\realb\\Desktop\\yapay zeka çalışmaları ve ilgili dökümasyonlar\\Netflix Hisse Senedi fiyat tahmini\\NFLX.csv', parse_dates=['Date'])"
   ]
  },
  {
   "cell_type": "code",
   "execution_count": 46,
   "id": "a72c375c",
   "metadata": {
    "scrolled": true
   },
   "outputs": [
    {
     "name": "stdout",
     "output_type": "stream",
     "text": [
      "         Date     Close       SMA       EMA  Signal\n",
      "0  2002-05-23  1.196429       NaN       NaN       0\n",
      "1  2002-05-24  1.210000       NaN       NaN       0\n",
      "2  2002-05-28  1.157143       NaN       NaN       0\n",
      "3  2002-05-29  1.103571       NaN       NaN       0\n",
      "4  2002-05-30  1.071429       NaN       NaN       0\n",
      "5  2002-05-31  1.076429       NaN       NaN       0\n",
      "6  2002-06-03  1.128571       NaN       NaN       0\n",
      "7  2002-06-04  1.117857       NaN       NaN       0\n",
      "8  2002-06-05  1.147143       NaN       NaN       0\n",
      "9  2002-06-06  1.182143       NaN       NaN       0\n",
      "10 2002-06-07  1.118571       NaN       NaN       0\n",
      "11 2002-06-10  1.156429       NaN       NaN       0\n",
      "12 2002-06-11  1.153571       NaN       NaN       0\n",
      "13 2002-06-12  1.092857  1.136582  1.141443       1\n",
      "14 2002-06-13  1.082857  1.128469  1.133632       1\n",
      "15 2002-06-14  0.986429  1.112500  1.114005       1\n",
      "16 2002-06-17  0.922143  1.095714  1.088423      -1\n",
      "17 2002-06-18  0.910714  1.081939  1.064729      -1\n",
      "18 2002-06-19  0.951429  1.073367  1.049622      -1\n",
      "19 2002-06-20  0.957143  1.064847  1.037291      -1\n",
      "         Date  Daily Return  Strategy Return\n",
      "0  2002-05-23           NaN              NaN\n",
      "1  2002-05-24      0.011343         0.000000\n",
      "2  2002-05-28     -0.043683        -0.000000\n",
      "3  2002-05-29     -0.046297        -0.000000\n",
      "4  2002-05-30     -0.029125        -0.000000\n",
      "5  2002-05-31      0.004667         0.000000\n",
      "6  2002-06-03      0.048440         0.000000\n",
      "7  2002-06-04     -0.009493        -0.000000\n",
      "8  2002-06-05      0.026198         0.000000\n",
      "9  2002-06-06      0.030511         0.000000\n",
      "10 2002-06-07     -0.053777        -0.000000\n",
      "11 2002-06-10      0.033845         0.000000\n",
      "12 2002-06-11     -0.002471        -0.000000\n",
      "13 2002-06-12     -0.052631        -0.000000\n",
      "14 2002-06-13     -0.009150        -0.009150\n",
      "15 2002-06-14     -0.089050        -0.089050\n",
      "16 2002-06-17     -0.065170        -0.065170\n",
      "17 2002-06-18     -0.012394         0.012394\n",
      "18 2002-06-19      0.044707        -0.044707\n",
      "19 2002-06-20      0.006006        -0.006006\n"
     ]
    }
   ],
   "source": [
    "# Sinyalleri kontrol et\n",
    "print(df[['Date', 'Close', 'SMA', 'EMA', 'Signal']].head(20))\n",
    "\n",
    "# Günlük getiriler ve strateji getirilerini kontrol et\n",
    "print(df[['Date', 'Daily Return', 'Strategy Return']].head(20))"
   ]
  },
  {
   "cell_type": "code",
   "execution_count": 49,
   "id": "c4e35055",
   "metadata": {},
   "outputs": [],
   "source": [
    "# Farklı pencere uzunlukları ile test yapın\n",
    "sma_window = 20  # Örneğin, 20 günlük SMA\n",
    "ema_window = 20  # Örneğin, 20 günlük EMA\n",
    "\n",
    "df['SMA'] = ta.trend.sma_indicator(df['Close'], window=sma_window)\n",
    "df['EMA'] = ta.trend.ema_indicator(df['Close'], window=ema_window)\n"
   ]
  },
  {
   "cell_type": "code",
   "execution_count": 50,
   "id": "6e095b03",
   "metadata": {},
   "outputs": [],
   "source": [
    "# RSI göstergesini hesaplayın\n",
    "df['RSI'] = ta.momentum.RSIIndicator(df['Close'], window=14).rsi()\n",
    "\n",
    "# RSI stratejisi: 30'un altına düştüğünde al, 70'in üstüne çıktığında sat\n",
    "df['Signal'] = 0\n",
    "df.loc[df['RSI'] < 30, 'Signal'] = 1  # Alım sinyali\n",
    "df.loc[df['RSI'] > 70, 'Signal'] = -1 # Satım sinyali\n"
   ]
  },
  {
   "cell_type": "code",
   "execution_count": 51,
   "id": "ce496671",
   "metadata": {},
   "outputs": [],
   "source": [
    "# İşlem maliyetlerini ekleyin (örneğin %0.1)\n",
    "transaction_cost = 0.001\n",
    "df['Strategy Return'] = df['Signal'].shift(1) * df['Daily Return'] - transaction_cost\n"
   ]
  },
  {
   "cell_type": "code",
   "execution_count": 52,
   "id": "d780d435",
   "metadata": {},
   "outputs": [
    {
     "name": "stdout",
     "output_type": "stream",
     "text": [
      "En İyi SMA Penceresi: 5\n",
      "En İyi EMA Penceresi: 5\n",
      "En İyi Kar/Zarar: $345.79\n"
     ]
    }
   ],
   "source": [
    "# SMA ve EMA pencerelerini optimize edin\n",
    "best_sma_window = None\n",
    "best_ema_window = None\n",
    "best_profit_loss = float('-inf')\n",
    "\n",
    "for sma_window in range(5, 30, 5):\n",
    "    for ema_window in range(5, 30, 5):\n",
    "        df['SMA'] = ta.trend.sma_indicator(df['Close'], window=sma_window)\n",
    "        df['EMA'] = ta.trend.ema_indicator(df['Close'], window=ema_window)\n",
    "        \n",
    "        df['Signal'] = 0\n",
    "        df.loc[df['EMA'] > df['SMA'], 'Signal'] = 1  # Alım sinyali\n",
    "        df.loc[df['EMA'] < df['SMA'], 'Signal'] = -1 # Satım sinyali\n",
    "        \n",
    "        df['Daily Return'] = df['Close'].pct_change()\n",
    "        df['Strategy Return'] = df['Signal'].shift(1) * df['Daily Return']\n",
    "        df['Cumulative Return'] = (1 + df['Strategy Return']).cumprod()\n",
    "        \n",
    "        initial_capital = 1000\n",
    "        df['Portfolio Value'] = initial_capital * df['Cumulative Return']\n",
    "        final_portfolio_value = df['Portfolio Value'].iloc[-1]\n",
    "        profit_loss = final_portfolio_value - initial_capital\n",
    "        \n",
    "        if profit_loss > best_profit_loss:\n",
    "            best_profit_loss = profit_loss\n",
    "            best_sma_window = sma_window\n",
    "            best_ema_window = ema_window\n",
    "\n",
    "print(f\"En İyi SMA Penceresi: {best_sma_window}\")\n",
    "print(f\"En İyi EMA Penceresi: {best_ema_window}\")\n",
    "print(f\"En İyi Kar/Zarar: ${best_profit_loss:.2f}\")\n"
   ]
  }
 ],
 "metadata": {
  "kernelspec": {
   "display_name": "Python 3 (ipykernel)",
   "language": "python",
   "name": "python3"
  },
  "language_info": {
   "codemirror_mode": {
    "name": "ipython",
    "version": 3
   },
   "file_extension": ".py",
   "mimetype": "text/x-python",
   "name": "python",
   "nbconvert_exporter": "python",
   "pygments_lexer": "ipython3",
   "version": "3.11.5"
  }
 },
 "nbformat": 4,
 "nbformat_minor": 5
}
